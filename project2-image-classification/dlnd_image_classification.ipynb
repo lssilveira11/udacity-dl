{
 "cells": [
  {
   "cell_type": "markdown",
   "metadata": {
    "collapsed": true
   },
   "source": [
    "# Image Classification\n",
    "In this project, you'll classify images from the [CIFAR-10 dataset](https://www.cs.toronto.edu/~kriz/cifar.html).  The dataset consists of airplanes, dogs, cats, and other objects. You'll preprocess the images, then train a convolutional neural network on all the samples. The images need to be normalized and the labels need to be one-hot encoded.  You'll get to apply what you learned and build a convolutional, max pooling, dropout, and fully connected layers.  At the end, you'll get to see your neural network's predictions on the sample images.\n",
    "## Get the Data\n",
    "Run the following cell to download the [CIFAR-10 dataset for python](https://www.cs.toronto.edu/~kriz/cifar-10-python.tar.gz)."
   ]
  },
  {
   "cell_type": "code",
   "execution_count": 1,
   "metadata": {},
   "outputs": [
    {
     "name": "stdout",
     "output_type": "stream",
     "text": [
      "All files found!\n"
     ]
    }
   ],
   "source": [
    "\"\"\"\n",
    "DON'T MODIFY ANYTHING IN THIS CELL THAT IS BELOW THIS LINE\n",
    "\"\"\"\n",
    "from urllib.request import urlretrieve\n",
    "from os.path import isfile, isdir\n",
    "from tqdm import tqdm\n",
    "import problem_unittests as tests\n",
    "import tarfile\n",
    "\n",
    "cifar10_dataset_folder_path = 'cifar-10-batches-py'\n",
    "\n",
    "# Use Floyd's cifar-10 dataset if present\n",
    "floyd_cifar10_location = '/cifar/cifar-10-python.tar.gz'\n",
    "if isfile(floyd_cifar10_location):\n",
    "    tar_gz_path = floyd_cifar10_location\n",
    "else:\n",
    "    tar_gz_path = 'cifar-10-python.tar.gz'\n",
    "\n",
    "class DLProgress(tqdm):\n",
    "    last_block = 0\n",
    "\n",
    "    def hook(self, block_num=1, block_size=1, total_size=None):\n",
    "        self.total = total_size\n",
    "        self.update((block_num - self.last_block) * block_size)\n",
    "        self.last_block = block_num\n",
    "\n",
    "if not isfile(tar_gz_path):\n",
    "    with DLProgress(unit='B', unit_scale=True, miniters=1, desc='CIFAR-10 Dataset') as pbar:\n",
    "        urlretrieve(\n",
    "            'https://www.cs.toronto.edu/~kriz/cifar-10-python.tar.gz',\n",
    "            tar_gz_path,\n",
    "            pbar.hook)\n",
    "\n",
    "if not isdir(cifar10_dataset_folder_path):\n",
    "    with tarfile.open(tar_gz_path) as tar:\n",
    "        tar.extractall()\n",
    "        tar.close()\n",
    "\n",
    "\n",
    "tests.test_folder_path(cifar10_dataset_folder_path)"
   ]
  },
  {
   "cell_type": "markdown",
   "metadata": {},
   "source": [
    "## Explore the Data\n",
    "The dataset is broken into batches to prevent your machine from running out of memory.  The CIFAR-10 dataset consists of 5 batches, named `data_batch_1`, `data_batch_2`, etc.. Each batch contains the labels and images that are one of the following:\n",
    "* airplane\n",
    "* automobile\n",
    "* bird\n",
    "* cat\n",
    "* deer\n",
    "* dog\n",
    "* frog\n",
    "* horse\n",
    "* ship\n",
    "* truck\n",
    "\n",
    "Understanding a dataset is part of making predictions on the data.  Play around with the code cell below by changing the `batch_id` and `sample_id`. The `batch_id` is the id for a batch (1-5). The `sample_id` is the id for a image and label pair in the batch.\n",
    "\n",
    "Ask yourself \"What are all possible labels?\", \"What is the range of values for the image data?\", \"Are the labels in order or random?\".  Answers to questions like these will help you preprocess the data and end up with better predictions."
   ]
  },
  {
   "cell_type": "code",
   "execution_count": 2,
   "metadata": {},
   "outputs": [
    {
     "name": "stdout",
     "output_type": "stream",
     "text": [
      "\n",
      "Stats of batch 1:\n",
      "Samples: 10000\n",
      "Label Counts: {0: 1005, 1: 974, 2: 1032, 3: 1016, 4: 999, 5: 937, 6: 1030, 7: 1001, 8: 1025, 9: 981}\n",
      "First 20 Labels: [6, 9, 9, 4, 1, 1, 2, 7, 8, 3, 4, 7, 7, 2, 9, 9, 9, 3, 2, 6]\n",
      "\n",
      "Example of Image 5:\n",
      "Image - Min Value: 0 Max Value: 252\n",
      "Image - Shape: (32, 32, 3)\n",
      "Label - Label Id: 1 Name: automobile\n"
     ]
    },
    {
     "data": {
      "image/png": "[encoded data removed]",
      "text/plain": [
       "<matplotlib.figure.Figure at 0xb0f7748>"
      ]
     },
     "metadata": {
      "image/png": {
       "height": 250,
       "width": 253
      }
     },
     "output_type": "display_data"
    }
   ],
   "source": [
    "%matplotlib inline\n",
    "%config InlineBackend.figure_format = 'retina'\n",
    "\n",
    "import helper\n",
    "import numpy as np\n",
    "\n",
    "# Explore the dataset\n",
    "batch_id = 1\n",
    "sample_id = 5\n",
    "helper.display_stats(cifar10_dataset_folder_path, batch_id, sample_id)"
   ]
  },
  {
   "cell_type": "markdown",
   "metadata": {},
   "source": [
    "## Implement Preprocess Functions\n",
    "### Normalize\n",
    "In the cell below, implement the `normalize` function to take in image data, `x`, and return it as a normalized Numpy array. The values should be in the range of 0 to 1, inclusive.  The return object should be the same shape as `x`."
   ]
  },
  {
   "cell_type": "code",
   "execution_count": 6,
   "metadata": {},
   "outputs": [
    {
     "name": "stdout",
     "output_type": "stream",
     "text": [
      "Tests Passed\n"
     ]
    }
   ],
   "source": [
    "def normalize(x):\n",
    "    \"\"\"\n",
    "    Normalize a list of sample image data in the range of 0 to 1\n",
    "    : x: List of image data.  The image shape is (32, 32, 3)\n",
    "    : return: Numpy array of normalize data\n",
    "    \"\"\"\n",
    "    # TODO: Implement Function\n",
    "    output = x / 255.0\n",
    "    return output\n",
    "\n",
    "\n",
    "\"\"\"\n",
    "DON'T MODIFY ANYTHING IN THIS CELL THAT IS BELOW THIS LINE\n",
    "\"\"\"\n",
    "tests.test_normalize(normalize)"
   ]
  },
  {
   "cell_type": "markdown",
   "metadata": {},
   "source": [
    "### One-hot encode\n",
    "Just like the previous code cell, you'll be implementing a function for preprocessing.  This time, you'll implement the `one_hot_encode` function. The input, `x`, are a list of labels.  Implement the function to return the list of labels as One-Hot encoded Numpy array.  The possible values for labels are 0 to 9. The one-hot encoding function should return the same encoding for each value between each call to `one_hot_encode`.  Make sure to save the map of encodings outside the function.\n",
    "\n",
    "Hint: Don't reinvent the wheel."
   ]
  },
  {
   "cell_type": "code",
   "execution_count": 46,
   "metadata": {},
   "outputs": [
    {
     "name": "stdout",
     "output_type": "stream",
     "text": [
      "Tests Passed\n"
     ]
    }
   ],
   "source": [
    "from sklearn.preprocessing import LabelBinarizer\n",
    "\n",
    "encoder = LabelBinarizer()\n",
    "\n",
    "def one_hot_encode(x):\n",
    "    \"\"\"\n",
    "    One hot encode a list of sample labels. Return a one-hot encoded vector for each label.\n",
    "    : x: List of sample Labels\n",
    "    : return: Numpy array of one-hot encoded labels\n",
    "    \"\"\"\n",
    "    # TODO: Implement Function    \n",
    "    encoder.fit([0,1,2,3,4,5,6,7,8,9])\n",
    "    output = encoder.transform(x)\n",
    "    return np.array(output)\n",
    "\n",
    "\n",
    "\"\"\"\n",
    "DON'T MODIFY ANYTHING IN THIS CELL THAT IS BELOW THIS LINE\n",
    "\"\"\"\n",
    "tests.test_one_hot_encode(one_hot_encode)"
   ]
  },
  {
   "cell_type": "markdown",
   "metadata": {},
   "source": [
    "### Randomize Data\n",
    "As you saw from exploring the data above, the order of the samples are randomized.  It doesn't hurt to randomize it again, but you don't need to for this dataset."
   ]
  },
  {
   "cell_type": "markdown",
   "metadata": {},
   "source": [
    "## Preprocess all the data and save it\n",
    "Running the code cell below will preprocess all the CIFAR-10 data and save it to file. The code below also uses 10% of the training data for validation."
   ]
  },
  {
   "cell_type": "code",
   "execution_count": 47,
   "metadata": {
    "collapsed": true
   },
   "outputs": [],
   "source": [
    "\"\"\"\n",
    "DON'T MODIFY ANYTHING IN THIS CELL\n",
    "\"\"\"\n",
    "# Preprocess Training, Validation, and Testing Data\n",
    "helper.preprocess_and_save_data(cifar10_dataset_folder_path, normalize, one_hot_encode)"
   ]
  },
  {
   "cell_type": "markdown",
   "metadata": {},
   "source": [
    "# Check Point\n",
    "This is your first checkpoint.  If you ever decide to come back to this notebook or have to restart the notebook, you can start from here.  The preprocessed data has been saved to disk."
   ]
  },
  {
   "cell_type": "code",
   "execution_count": 48,
   "metadata": {
    "collapsed": true
   },
   "outputs": [],
   "source": [
    "\"\"\"\n",
    "DON'T MODIFY ANYTHING IN THIS CELL\n",
    "\"\"\"\n",
    "import pickle\n",
    "import problem_unittests as tests\n",
    "import helper\n",
    "\n",
    "# Load the Preprocessed Validation data\n",
    "valid_features, valid_labels = pickle.load(open('preprocess_validation.p', mode='rb'))"
   ]
  },
  {
   "cell_type": "markdown",
   "metadata": {},
   "source": [
    "## Build the network\n",
    "For the neural network, you'll build each layer into a function.  Most of the code you've seen has been outside of functions. To test your code more thoroughly, we require that you put each layer in a function.  This allows us to give you better feedback and test for simple mistakes using our unittests before you submit your project.\n",
    "\n",
    ">**Note:** If you're finding it hard to dedicate enough time for this course each week, we've provided a small shortcut to this part of the project. In the next couple of problems, you'll have the option to use classes from the [TensorFlow Layers](https://www.tensorflow.org/api_docs/python/tf/layers) or [TensorFlow Layers (contrib)](https://www.tensorflow.org/api_guides/python/contrib.layers) packages to build each layer, except the layers you build in the \"Convolutional and Max Pooling Layer\" section.  TF Layers is similar to Keras's and TFLearn's abstraction to layers, so it's easy to pickup.\n",
    "\n",
    ">However, if you would like to get the most out of this course, try to solve all the problems _without_ using anything from the TF Layers packages. You **can** still use classes from other packages that happen to have the same name as ones you find in TF Layers! For example, instead of using the TF Layers version of the `conv2d` class, [tf.layers.conv2d](https://www.tensorflow.org/api_docs/python/tf/layers/conv2d), you would want to use the TF Neural Network version of `conv2d`, [tf.nn.conv2d](https://www.tensorflow.org/api_docs/python/tf/nn/conv2d). \n",
    "\n",
    "Let's begin!\n",
    "\n",
    "### Input\n",
    "The neural network needs to read the image data, one-hot encoded labels, and dropout keep probability. Implement the following functions\n",
    "* Implement `neural_net_image_input`\n",
    " * Return a [TF Placeholder](https://www.tensorflow.org/api_docs/python/tf/placeholder)\n",
    " * Set the shape using `image_shape` with batch size set to `None`.\n",
    " * Name the TensorFlow placeholder \"x\" using the TensorFlow `name` parameter in the [TF Placeholder](https://www.tensorflow.org/api_docs/python/tf/placeholder).\n",
    "* Implement `neural_net_label_input`\n",
    " * Return a [TF Placeholder](https://www.tensorflow.org/api_docs/python/tf/placeholder)\n",
    " * Set the shape using `n_classes` with batch size set to `None`.\n",
    " * Name the TensorFlow placeholder \"y\" using the TensorFlow `name` parameter in the [TF Placeholder](https://www.tensorflow.org/api_docs/python/tf/placeholder).\n",
    "* Implement `neural_net_keep_prob_input`\n",
    " * Return a [TF Placeholder](https://www.tensorflow.org/api_docs/python/tf/placeholder) for dropout keep probability.\n",
    " * Name the TensorFlow placeholder \"keep_prob\" using the TensorFlow `name` parameter in the [TF Placeholder](https://www.tensorflow.org/api_docs/python/tf/placeholder).\n",
    "\n",
    "These names will be used at the end of the project to load your saved model.\n",
    "\n",
    "Note: `None` for shapes in TensorFlow allow for a dynamic size."
   ]
  },
  {
   "cell_type": "code",
   "execution_count": 57,
   "metadata": {},
   "outputs": [
    {
     "name": "stdout",
     "output_type": "stream",
     "text": [
      "Image Input Tests Passed.\n",
      "Label Input Tests Passed.\n",
      "Keep Prob Tests Passed.\n"
     ]
    }
   ],
   "source": [
    "import tensorflow as tf\n",
    "\n",
    "def neural_net_image_input(image_shape):\n",
    "    \"\"\"\n",
    "    Return a Tensor for a batch of image input\n",
    "    : image_shape: Shape of the images\n",
    "    : return: Tensor for image input.\n",
    "    \"\"\"\n",
    "    # TODO: Implement Function\n",
    "    return tf.placeholder(tf.float32, shape=[None, image_shape[0], image_shape[1], image_shape[2]], name='x')\n",
    "\n",
    "\n",
    "def neural_net_label_input(n_classes):\n",
    "    \"\"\"\n",
    "    Return a Tensor for a batch of label input\n",
    "    : n_classes: Number of classes\n",
    "    : return: Tensor for label input.\n",
    "    \"\"\"\n",
    "    # TODO: Implement Function\n",
    "    return tf.placeholder(tf.float32, shape=[None, n_classes], name='y')\n",
    "\n",
    "\n",
    "def neural_net_keep_prob_input():\n",
    "    \"\"\"\n",
    "    Return a Tensor for keep probability\n",
    "    : return: Tensor for keep probability.\n",
    "    \"\"\"\n",
    "    # TODO: Implement Function\n",
    "    return tf.placeholder(tf.float32, name='keep_prob')\n",
    "\n",
    "\n",
    "\"\"\"\n",
    "DON'T MODIFY ANYTHING IN THIS CELL THAT IS BELOW THIS LINE\n",
    "\"\"\"\n",
    "tf.reset_default_graph()\n",
    "tests.test_nn_image_inputs(neural_net_image_input)\n",
    "tests.test_nn_label_inputs(neural_net_label_input)\n",
    "tests.test_nn_keep_prob_inputs(neural_net_keep_prob_input)"
   ]
  },
  {
   "cell_type": "markdown",
   "metadata": {},
   "source": [
    "### Convolution and Max Pooling Layer\n",
    "Convolution layers have a lot of success with images. For this code cell, you should implement the function `conv2d_maxpool` to apply convolution then max pooling:\n",
    "* Create the weight and bias using `conv_ksize`, `conv_num_outputs` and the shape of `x_tensor`.\n",
    "* Apply a convolution to `x_tensor` using weight and `conv_strides`.\n",
    " * We recommend you use same padding, but you're welcome to use any padding.\n",
    "* Add bias\n",
    "* Add a nonlinear activation to the convolution.\n",
    "* Apply Max Pooling using `pool_ksize` and `pool_strides`.\n",
    " * We recommend you use same padding, but you're welcome to use any padding.\n",
    "\n",
    "**Note:** You **can't** use [TensorFlow Layers](https://www.tensorflow.org/api_docs/python/tf/layers) or [TensorFlow Layers (contrib)](https://www.tensorflow.org/api_guides/python/contrib.layers) for **this** layer, but you can still use TensorFlow's [Neural Network](https://www.tensorflow.org/api_docs/python/tf/nn) package. You may still use the shortcut option for all the **other** layers."
   ]
  },
  {
   "cell_type": "code",
   "execution_count": 120,
   "metadata": {},
   "outputs": [
    {
     "name": "stdout",
     "output_type": "stream",
     "text": [
      "Tests Passed\n"
     ]
    }
   ],
   "source": [
    "def conv2d_maxpool(x_tensor, conv_num_outputs, conv_ksize, conv_strides, pool_ksize, pool_strides):\n",
    "    \"\"\"\n",
    "    Apply convolution then max pooling to x_tensor\n",
    "    :param x_tensor: TensorFlow Tensor\n",
    "    :param conv_num_outputs: Number of outputs for the convolutional layer\n",
    "    :param conv_ksize: kernal size 2-D Tuple for the convolutional layer\n",
    "    :param conv_strides: Stride 2-D Tuple for convolution\n",
    "    :param pool_ksize: kernal size 2-D Tuple for pool\n",
    "    :param pool_strides: Stride 2-D Tuple for pool\n",
    "    : return: A tensor that represents convolution and max pooling of x_tensor\n",
    "    \"\"\"\n",
    "    # TODO: Implement Function\n",
    "    \"\"\"\n",
    "    print(\"x_tensor=\",x_tensor)\n",
    "    print(\"conv_num_outputs=\",conv_num_outputs)\n",
    "    print(\"conv_ksize=\",conv_ksize)\n",
    "    print(\"conv_strides=\",conv_strides)\n",
    "    print(\"pool_ksize=\",pool_ksize)\n",
    "    print(\"pool_strides=\",pool_strides)    \n",
    "    \"\"\"\n",
    "    \n",
    "    conv_depth= x_tensor.get_shape()[len(x_tensor.get_shape())-1].value\n",
    "    #print(\"conv_depth=\",conv_depth)\n",
    "       \n",
    "    w = tf.Variable(tf.random_normal([conv_ksize[0], conv_ksize[1], conv_depth, conv_num_outputs]))\n",
    "    #print(\"weights=\",w)\n",
    "    \n",
    "    b = tf.Variable(tf.random_normal([conv_num_outputs]))\n",
    "    #print(\"biases=\",b)\n",
    "    \n",
    "    strides = [1, conv_strides[0], conv_strides[1], 1]\n",
    "    x_tensor = tf.nn.conv2d(x_tensor, w, strides, padding='SAME')\n",
    "    x_tensor = tf.nn.bias_add(x_tensor, b)\n",
    "    x_tensor = tf.nn.relu(x_tensor)\n",
    "    \n",
    "    ksize = [1, pool_ksize[0], pool_ksize[1], 1]\n",
    "    strides = [1, pool_strides[0], pool_strides[1], 1]\n",
    "    return tf.nn.max_pool(x_tensor, ksize, strides, padding='SAME')\n",
    "\n",
    "\n",
    "\"\"\"\n",
    "DON'T MODIFY ANYTHING IN THIS CELL THAT IS BELOW THIS LINE\n",
    "\"\"\"\n",
    "tests.test_con_pool(conv2d_maxpool)"
   ]
  },
  {
   "cell_type": "markdown",
   "metadata": {},
   "source": [
    "### Flatten Layer\n",
    "Implement the `flatten` function to change the dimension of `x_tensor` from a 4-D tensor to a 2-D tensor.  The output should be the shape (*Batch Size*, *Flattened Image Size*). Shortcut option: you can use classes from the [TensorFlow Layers](https://www.tensorflow.org/api_docs/python/tf/layers) or [TensorFlow Layers (contrib)](https://www.tensorflow.org/api_guides/python/contrib.layers) packages for this layer. For more of a challenge, only use other TensorFlow packages."
   ]
  },
  {
   "cell_type": "code",
   "execution_count": 88,
   "metadata": {},
   "outputs": [
    {
     "name": "stdout",
     "output_type": "stream",
     "text": [
      "Tests Passed\n"
     ]
    }
   ],
   "source": [
    "def flatten(x_tensor):\n",
    "    \"\"\"\n",
    "    Flatten x_tensor to (Batch Size, Flattened Image Size)\n",
    "    : x_tensor: A tensor of size (Batch Size, ...), where ... are the image dimensions.\n",
    "    : return: A tensor of size (Batch Size, Flattened Image Size).\n",
    "    \"\"\"\n",
    "    # TODO: Implement Function   \n",
    "    return tf.contrib.layers.flatten(x_tensor)\n",
    "\n",
    "\n",
    "\"\"\"\n",
    "DON'T MODIFY ANYTHING IN THIS CELL THAT IS BELOW THIS LINE\n",
    "\"\"\"\n",
    "tests.test_flatten(flatten)"
   ]
  },
  {
   "cell_type": "markdown",
   "metadata": {},
   "source": [
    "### Fully-Connected Layer\n",
    "Implement the `fully_conn` function to apply a fully connected layer to `x_tensor` with the shape (*Batch Size*, *num_outputs*). Shortcut option: you can use classes from the [TensorFlow Layers](https://www.tensorflow.org/api_docs/python/tf/layers) or [TensorFlow Layers (contrib)](https://www.tensorflow.org/api_guides/python/contrib.layers) packages for this layer. For more of a challenge, only use other TensorFlow packages."
   ]
  },
  {
   "cell_type": "code",
   "execution_count": 90,
   "metadata": {},
   "outputs": [
    {
     "name": "stdout",
     "output_type": "stream",
     "text": [
      "Tensor(\"Placeholder_30:0\", shape=(?, 128), dtype=float32)\n",
      "40\n",
      "Tests Passed\n"
     ]
    }
   ],
   "source": [
    "def fully_conn(x_tensor, num_outputs):\n",
    "    \"\"\"\n",
    "    Apply a fully connected layer to x_tensor using weight and bias\n",
    "    : x_tensor: A 2-D tensor where the first dimension is batch size.\n",
    "    : num_outputs: The number of output that the new tensor should be.\n",
    "    : return: A 2-D tensor where the second dimension is num_outputs.\n",
    "    \"\"\"\n",
    "    # TODO: Implement Function\n",
    "    return tf.contrib.layers.fully_connected(x_tensor, num_outputs)\n",
    "\n",
    "\n",
    "\"\"\"\n",
    "DON'T MODIFY ANYTHING IN THIS CELL THAT IS BELOW THIS LINE\n",
    "\"\"\"\n",
    "tests.test_fully_conn(fully_conn)"
   ]
  },
  {
   "cell_type": "markdown",
   "metadata": {},
   "source": [
    "### Output Layer\n",
    "Implement the `output` function to apply a fully connected layer to `x_tensor` with the shape (*Batch Size*, *num_outputs*). Shortcut option: you can use classes from the [TensorFlow Layers](https://www.tensorflow.org/api_docs/python/tf/layers) or [TensorFlow Layers (contrib)](https://www.tensorflow.org/api_guides/python/contrib.layers) packages for this layer. For more of a challenge, only use other TensorFlow packages.\n",
    "\n",
    "**Note:** Activation, softmax, or cross entropy should **not** be applied to this."
   ]
  },
  {
   "cell_type": "code",
   "execution_count": 92,
   "metadata": {},
   "outputs": [
    {
     "name": "stdout",
     "output_type": "stream",
     "text": [
      "Tests Passed\n"
     ]
    }
   ],
   "source": [
    "def output(x_tensor, num_outputs):\n",
    "    \"\"\"\n",
    "    Apply a output layer to x_tensor using weight and bias\n",
    "    : x_tensor: A 2-D tensor where the first dimension is batch size.\n",
    "    : num_outputs: The number of output that the new tensor should be.\n",
    "    : return: A 2-D tensor where the second dimension is num_outputs.\n",
    "    \"\"\"\n",
    "    # TODO: Implement Function\n",
    "    return tf.contrib.layers.fully_connected(x_tensor, num_outputs, activation_fn=None)\n",
    "\n",
    "\n",
    "\n",
    "\"\"\"\n",
    "DON'T MODIFY ANYTHING IN THIS CELL THAT IS BELOW THIS LINE\n",
    "\"\"\"\n",
    "tests.test_output(output)"
   ]
  },
  {
   "cell_type": "markdown",
   "metadata": {},
   "source": [
    "### Create Convolutional Model\n",
    "Implement the function `conv_net` to create a convolutional neural network model. The function takes in a batch of images, `x`, and outputs logits.  Use the layers you created above to create this model:\n",
    "\n",
    "* Apply 1, 2, or 3 Convolution and Max Pool layers\n",
    "* Apply a Flatten Layer\n",
    "* Apply 1, 2, or 3 Fully Connected Layers\n",
    "* Apply an Output Layer\n",
    "* Return the output\n",
    "* Apply [TensorFlow's Dropout](https://www.tensorflow.org/api_docs/python/tf/nn/dropout) to one or more layers in the model using `keep_prob`. "
   ]
  },
  {
   "cell_type": "code",
   "execution_count": 273,
   "metadata": {},
   "outputs": [
    {
     "name": "stdout",
     "output_type": "stream",
     "text": [
      "Tensor(\"Flatten/Reshape:0\", shape=(?, 256), dtype=float32)\n",
      "512\n",
      "Tensor(\"fully_connected/Relu:0\", shape=(?, 512), dtype=float32)\n",
      "512\n",
      "Tensor(\"Flatten_1/Reshape:0\", shape=(?, 256), dtype=float32)\n",
      "512\n",
      "Tensor(\"fully_connected_3/Relu:0\", shape=(?, 512), dtype=float32)\n",
      "512\n",
      "Neural Network Built!\n"
     ]
    }
   ],
   "source": [
    "def conv_net(x, keep_prob):\n",
    "    \"\"\"\n",
    "    Create a convolutional neural network model\n",
    "    : x: Placeholder tensor that holds image data.\n",
    "    : keep_prob: Placeholder tensor that hold dropout keep probability.\n",
    "    : return: Tensor that represents logits\n",
    "    \"\"\"\n",
    "    # TODO: Apply 1, 2, or 3 Convolution and Max Pool layers\n",
    "    #    Play around with different number of outputs, kernel size and stride\n",
    "    # Function Definition from Above:\n",
    "    \n",
    "    # note: due to computing limits of my machine, just one layer was added.\n",
    "    \n",
    "    cksize = (8,8)\n",
    "    cstrides = (2,2)\n",
    "    cnum_outputs = 64\n",
    "    \n",
    "    pool_ksize = (2,2)\n",
    "    pool_strides = (2,2)\n",
    "    \n",
    "    n_outputs = 10\n",
    "    \n",
    "    x_tensor = x\n",
    "    x_tensor = conv2d_maxpool(x_tensor, 64, (8,8), cstrides, pool_ksize, pool_strides)\n",
    "    x_tensor = conv2d_maxpool(x_tensor, 128, (4,4), cstrides, pool_ksize, pool_strides)\n",
    "    #x_tensor = conv2d_maxpool(x_tensor, 128, cksize, cstrides, pool_ksize, pool_strides)\n",
    "    \n",
    "\n",
    "    # TODO: Apply a Flatten Layer\n",
    "    # Function Definition from Above:\n",
    "    x_tensor = flatten(x_tensor)\n",
    "    \n",
    "\n",
    "    # TODO: Apply 1, 2, or 3 Fully Connected Layers\n",
    "    #    Play around with different number of outputs\n",
    "    # Function Definition from Above:\n",
    "    \n",
    "    # note: due to computing limits of my machine, just one layer was added.\n",
    "    \n",
    "    x_tensor = fully_conn(x_tensor, 512)\n",
    "    #x_tensor = fully_conn(x_tensor, 512)      \n",
    "    \n",
    "    x_tensor = tf.nn.dropout(x_tensor, keep_prob)\n",
    "    \n",
    "    \n",
    "    # TODO: Apply an Output Layer\n",
    "    #    Set this to the number of classes\n",
    "    # Function Definition from Above:\n",
    "    x_tensor = output(x_tensor, n_outputs)\n",
    "    \n",
    "    # TODO: return output\n",
    "    return x_tensor\n",
    "\n",
    "\n",
    "\"\"\"\n",
    "DON'T MODIFY ANYTHING IN THIS CELL THAT IS BELOW THIS LINE\n",
    "\"\"\"\n",
    "\n",
    "##############################\n",
    "## Build the Neural Network ##\n",
    "##############################\n",
    "\n",
    "# Remove previous weights, bias, inputs, etc..\n",
    "tf.reset_default_graph()\n",
    "\n",
    "# Inputs\n",
    "x = neural_net_image_input((32, 32, 3))\n",
    "y = neural_net_label_input(10)\n",
    "keep_prob = neural_net_keep_prob_input()\n",
    "\n",
    "# Model\n",
    "logits = conv_net(x, keep_prob)\n",
    "\n",
    "# Name logits Tensor, so that is can be loaded from disk after training\n",
    "logits = tf.identity(logits, name='logits')\n",
    "\n",
    "# Loss and Optimizer\n",
    "cost = tf.reduce_mean(tf.nn.softmax_cross_entropy_with_logits(logits=logits, labels=y))\n",
    "optimizer = tf.train.AdamOptimizer().minimize(cost)\n",
    "\n",
    "# Accuracy\n",
    "correct_pred = tf.equal(tf.argmax(logits, 1), tf.argmax(y, 1))\n",
    "accuracy = tf.reduce_mean(tf.cast(correct_pred, tf.float32), name='accuracy')\n",
    "\n",
    "tests.test_conv_net(conv_net)"
   ]
  },
  {
   "cell_type": "markdown",
   "metadata": {},
   "source": [
    "## Train the Neural Network\n",
    "### Single Optimization\n",
    "Implement the function `train_neural_network` to do a single optimization.  The optimization should use `optimizer` to optimize in `session` with a `feed_dict` of the following:\n",
    "* `x` for image input\n",
    "* `y` for labels\n",
    "* `keep_prob` for keep probability for dropout\n",
    "\n",
    "This function will be called for each batch, so `tf.global_variables_initializer()` has already been called.\n",
    "\n",
    "Note: Nothing needs to be returned. This function is only optimizing the neural network."
   ]
  },
  {
   "cell_type": "code",
   "execution_count": 114,
   "metadata": {},
   "outputs": [
    {
     "name": "stdout",
     "output_type": "stream",
     "text": [
      "Tests Passed\n"
     ]
    }
   ],
   "source": [
    "def train_neural_network(session, optimizer, keep_probability, feature_batch, label_batch):\n",
    "    \"\"\"\n",
    "    Optimize the session on a batch of images and labels\n",
    "    : session: Current TensorFlow session\n",
    "    : optimizer: TensorFlow optimizer function\n",
    "    : keep_probability: keep probability\n",
    "    : feature_batch: Batch of Numpy image data\n",
    "    : label_batch: Batch of Numpy label data\n",
    "    \"\"\"\n",
    "    # TODO: Implement Function\n",
    "    \n",
    "    session.run(optimizer, feed_dict={\n",
    "                x: feature_batch,\n",
    "                y: label_batch,\n",
    "                keep_prob: keep_probability})\n",
    "    \n",
    "    pass\n",
    "\n",
    "\n",
    "\"\"\"\n",
    "DON'T MODIFY ANYTHING IN THIS CELL THAT IS BELOW THIS LINE\n",
    "\"\"\"\n",
    "tests.test_train_nn(train_neural_network)"
   ]
  },
  {
   "cell_type": "markdown",
   "metadata": {},
   "source": [
    "### Show Stats\n",
    "Implement the function `print_stats` to print loss and validation accuracy.  Use the global variables `valid_features` and `valid_labels` to calculate validation accuracy.  Use a keep probability of `1.0` to calculate the loss and validation accuracy."
   ]
  },
  {
   "cell_type": "code",
   "execution_count": 101,
   "metadata": {
    "collapsed": true
   },
   "outputs": [],
   "source": [
    "def print_stats(session, feature_batch, label_batch, cost, accuracy):\n",
    "    \"\"\"\n",
    "    Print information about loss and validation accuracy\n",
    "    : session: Current TensorFlow session\n",
    "    : feature_batch: Batch of Numpy image data\n",
    "    : label_batch: Batch of Numpy label data\n",
    "    : cost: TensorFlow cost function\n",
    "    : accuracy: TensorFlow accuracy function\n",
    "    \"\"\"\n",
    "    # TODO: Implement Function\n",
    "    # Calculando perda e precisão dos lote\n",
    "    loss = session.run(cost, feed_dict={\n",
    "        x: feature_batch,\n",
    "        y: label_batch,\n",
    "        keep_prob: 1.})\n",
    "    \n",
    "    valid_acc = sess.run(accuracy, feed_dict={\n",
    "        x: feature_batch,\n",
    "        y: label_batch,\n",
    "        keep_prob: 1.})\n",
    "\n",
    "    print('Loss: {:>10.4f} Validation Accuracy: {:.6f}'.format(\n",
    "            loss,\n",
    "            valid_acc))\n",
    "    pass"
   ]
  },
  {
   "cell_type": "markdown",
   "metadata": {},
   "source": [
    "### Hyperparameters\n",
    "Tune the following parameters:\n",
    "* Set `epochs` to the number of iterations until the network stops learning or start overfitting\n",
    "* Set `batch_size` to the highest number that your machine has memory for.  Most people set them to common sizes of memory:\n",
    " * 64\n",
    " * 128\n",
    " * 256\n",
    " * ...\n",
    "* Set `keep_probability` to the probability of keeping a node using dropout"
   ]
  },
  {
   "cell_type": "code",
   "execution_count": 263,
   "metadata": {
    "collapsed": true
   },
   "outputs": [],
   "source": [
    "# TODO: Tune Parameters\n",
    "epochs = 50\n",
    "batch_size = 1024\n",
    "keep_probability = 0.70"
   ]
  },
  {
   "cell_type": "markdown",
   "metadata": {},
   "source": [
    "### Fully Train the Model\n",
    "Now that you got a good accuracy with a single CIFAR-10 batch, try it with all five batches."
   ]
  },
  {
   "cell_type": "markdown",
   "metadata": {},
   "source": [
    "### Train on a Single CIFAR-10 Batch\n",
    "Instead of training the neural network on all the CIFAR-10 batches of data, let's use a single batch. This should save time while you iterate on the model to get a better accuracy.  Once the final validation accuracy is 50% or greater, run the model on all the data in the next section."
   ]
  },
  {
   "cell_type": "code",
   "execution_count": 275,
   "metadata": {},
   "outputs": [
    {
     "name": "stdout",
     "output_type": "stream",
     "text": [
      "Checking the Training on a Single Batch...\n",
      "Epoch  1, CIFAR-10 Batch 1:  Loss:    21.0139 Validation Accuracy: 0.176980\n",
      "Epoch  2, CIFAR-10 Batch 1:  Loss:     9.1451 Validation Accuracy: 0.184406\n",
      "Epoch  3, CIFAR-10 Batch 1:  Loss:     4.6872 Validation Accuracy: 0.214109\n",
      "Epoch  4, CIFAR-10 Batch 1:  Loss:     2.8954 Validation Accuracy: 0.190594\n",
      "Epoch  5, CIFAR-10 Batch 1:  Loss:     2.3323 Validation Accuracy: 0.183168\n",
      "Epoch  6, CIFAR-10 Batch 1:  Loss:     2.2448 Validation Accuracy: 0.209158\n",
      "Epoch  7, CIFAR-10 Batch 1:  Loss:     2.1789 Validation Accuracy: 0.212871\n",
      "Epoch  8, CIFAR-10 Batch 1:  Loss:     2.1398 Validation Accuracy: 0.241337\n",
      "Epoch  9, CIFAR-10 Batch 1:  Loss:     2.0953 Validation Accuracy: 0.248762\n",
      "Epoch 10, CIFAR-10 Batch 1:  Loss:     2.0575 Validation Accuracy: 0.273515\n",
      "Epoch 11, CIFAR-10 Batch 1:  Loss:     2.0089 Validation Accuracy: 0.287129\n",
      "Epoch 12, CIFAR-10 Batch 1:  Loss:     1.9754 Validation Accuracy: 0.295792\n",
      "Epoch 13, CIFAR-10 Batch 1:  Loss:     1.9413 Validation Accuracy: 0.305693\n",
      "Epoch 14, CIFAR-10 Batch 1:  Loss:     1.9127 Validation Accuracy: 0.306931\n",
      "Epoch 15, CIFAR-10 Batch 1:  Loss:     1.8855 Validation Accuracy: 0.341584\n",
      "Epoch 16, CIFAR-10 Batch 1:  Loss:     1.8480 Validation Accuracy: 0.342822\n",
      "Epoch 17, CIFAR-10 Batch 1:  Loss:     1.8237 Validation Accuracy: 0.353960\n",
      "Epoch 18, CIFAR-10 Batch 1:  Loss:     1.8025 Validation Accuracy: 0.356436\n",
      "Epoch 19, CIFAR-10 Batch 1:  Loss:     1.7678 Validation Accuracy: 0.378713\n",
      "Epoch 20, CIFAR-10 Batch 1:  Loss:     1.7588 Validation Accuracy: 0.375000\n",
      "Epoch 21, CIFAR-10 Batch 1:  Loss:     1.7491 Validation Accuracy: 0.387376\n",
      "Epoch 22, CIFAR-10 Batch 1:  Loss:     1.7114 Validation Accuracy: 0.414604\n",
      "Epoch 23, CIFAR-10 Batch 1:  Loss:     1.6873 Validation Accuracy: 0.415842\n",
      "Epoch 24, CIFAR-10 Batch 1:  Loss:     1.6761 Validation Accuracy: 0.408416\n",
      "Epoch 25, CIFAR-10 Batch 1:  Loss:     1.6523 Validation Accuracy: 0.430693\n",
      "Epoch 26, CIFAR-10 Batch 1:  Loss:     1.6325 Validation Accuracy: 0.413366\n",
      "Epoch 27, CIFAR-10 Batch 1:  Loss:     1.6379 Validation Accuracy: 0.415842\n",
      "Epoch 28, CIFAR-10 Batch 1:  Loss:     1.5972 Validation Accuracy: 0.436881\n",
      "Epoch 29, CIFAR-10 Batch 1:  Loss:     1.5863 Validation Accuracy: 0.455446\n",
      "Epoch 30, CIFAR-10 Batch 1:  Loss:     1.5590 Validation Accuracy: 0.449257\n",
      "Epoch 31, CIFAR-10 Batch 1:  Loss:     1.5491 Validation Accuracy: 0.440594\n",
      "Epoch 32, CIFAR-10 Batch 1:  Loss:     1.5297 Validation Accuracy: 0.469059\n",
      "Epoch 33, CIFAR-10 Batch 1:  Loss:     1.5166 Validation Accuracy: 0.466584\n",
      "Epoch 34, CIFAR-10 Batch 1:  Loss:     1.5018 Validation Accuracy: 0.483911\n",
      "Epoch 35, CIFAR-10 Batch 1:  Loss:     1.4754 Validation Accuracy: 0.498762\n",
      "Epoch 36, CIFAR-10 Batch 1:  Loss:     1.4536 Validation Accuracy: 0.501238\n",
      "Epoch 37, CIFAR-10 Batch 1:  Loss:     1.4315 Validation Accuracy: 0.508663\n",
      "Epoch 38, CIFAR-10 Batch 1:  Loss:     1.4251 Validation Accuracy: 0.492574\n",
      "Epoch 39, CIFAR-10 Batch 1:  Loss:     1.4024 Validation Accuracy: 0.530941\n",
      "Epoch 40, CIFAR-10 Batch 1:  Loss:     1.4181 Validation Accuracy: 0.507426\n",
      "Epoch 41, CIFAR-10 Batch 1:  Loss:     1.3767 Validation Accuracy: 0.524752\n",
      "Epoch 42, CIFAR-10 Batch 1:  Loss:     1.3760 Validation Accuracy: 0.525990\n",
      "Epoch 43, CIFAR-10 Batch 1:  Loss:     1.3431 Validation Accuracy: 0.545792\n",
      "Epoch 44, CIFAR-10 Batch 1:  Loss:     1.3267 Validation Accuracy: 0.555693\n",
      "Epoch 45, CIFAR-10 Batch 1:  Loss:     1.3122 Validation Accuracy: 0.568069\n",
      "Epoch 46, CIFAR-10 Batch 1:  Loss:     1.2896 Validation Accuracy: 0.566832\n",
      "Epoch 47, CIFAR-10 Batch 1:  Loss:     1.2897 Validation Accuracy: 0.580446\n",
      "Epoch 48, CIFAR-10 Batch 1:  Loss:     1.2561 Validation Accuracy: 0.561881\n",
      "Epoch 49, CIFAR-10 Batch 1:  Loss:     1.2477 Validation Accuracy: 0.579208\n",
      "Epoch 50, CIFAR-10 Batch 1:  Loss:     1.2172 Validation Accuracy: 0.589109\n"
     ]
    }
   ],
   "source": [
    "\"\"\"\n",
    "DON'T MODIFY ANYTHING IN THIS CELL\n",
    "\"\"\"\n",
    "print('Checking the Training on a Single Batch...')\n",
    "with tf.Session() as sess:\n",
    "    # Initializing the variables\n",
    "    sess.run(tf.global_variables_initializer())\n",
    "        # Training cycle\n",
    "    for epoch in range(epochs):\n",
    "        batch_i = 1\n",
    "        for batch_features, batch_labels in helper.load_preprocess_training_batch(batch_i, batch_size):\n",
    "            train_neural_network(sess, optimizer, keep_probability, batch_features, batch_labels)\n",
    "        print('Epoch {:>2}, CIFAR-10 Batch {}:  '.format(epoch + 1, batch_i), end='')\n",
    "        print_stats(sess, batch_features, batch_labels, cost, accuracy)"
   ]
  },
  {
   "cell_type": "code",
   "execution_count": 276,
   "metadata": {
    "scrolled": true
   },
   "outputs": [
    {
     "name": "stdout",
     "output_type": "stream",
     "text": [
      "Training...\n",
      "Epoch  1, CIFAR-10 Batch 1:  Loss:    14.7345 Validation Accuracy: 0.173267\n",
      "Epoch  1, CIFAR-10 Batch 2:  Loss:     7.2591 Validation Accuracy: 0.179455\n",
      "Epoch  1, CIFAR-10 Batch 3:  Loss:     2.7456 Validation Accuracy: 0.185644\n",
      "Epoch  1, CIFAR-10 Batch 4:  Loss:     2.2257 Validation Accuracy: 0.178218\n",
      "Epoch  1, CIFAR-10 Batch 5:  Loss:     2.2187 Validation Accuracy: 0.195545\n",
      "Epoch  2, CIFAR-10 Batch 1:  Loss:     2.2405 Validation Accuracy: 0.168317\n",
      "Epoch  2, CIFAR-10 Batch 2:  Loss:     2.2086 Validation Accuracy: 0.181931\n",
      "Epoch  2, CIFAR-10 Batch 3:  Loss:     2.1627 Validation Accuracy: 0.195545\n",
      "Epoch  2, CIFAR-10 Batch 4:  Loss:     2.1090 Validation Accuracy: 0.200495\n",
      "Epoch  2, CIFAR-10 Batch 5:  Loss:     2.1255 Validation Accuracy: 0.217822\n",
      "Epoch  3, CIFAR-10 Batch 1:  Loss:     2.1130 Validation Accuracy: 0.212871\n",
      "Epoch  3, CIFAR-10 Batch 2:  Loss:     2.1020 Validation Accuracy: 0.225248\n",
      "Epoch  3, CIFAR-10 Batch 3:  Loss:     2.0188 Validation Accuracy: 0.250000\n",
      "Epoch  3, CIFAR-10 Batch 4:  Loss:     2.0125 Validation Accuracy: 0.262376\n",
      "Epoch  3, CIFAR-10 Batch 5:  Loss:     2.0187 Validation Accuracy: 0.253713\n",
      "Epoch  4, CIFAR-10 Batch 1:  Loss:     2.0199 Validation Accuracy: 0.273515\n",
      "Epoch  4, CIFAR-10 Batch 2:  Loss:     1.9818 Validation Accuracy: 0.262376\n",
      "Epoch  4, CIFAR-10 Batch 3:  Loss:     1.9208 Validation Accuracy: 0.293317\n",
      "Epoch  4, CIFAR-10 Batch 4:  Loss:     1.9209 Validation Accuracy: 0.292079\n",
      "Epoch  4, CIFAR-10 Batch 5:  Loss:     1.9084 Validation Accuracy: 0.292079\n",
      "Epoch  5, CIFAR-10 Batch 1:  Loss:     1.9262 Validation Accuracy: 0.289604\n",
      "Epoch  5, CIFAR-10 Batch 2:  Loss:     1.8940 Validation Accuracy: 0.311881\n",
      "Epoch  5, CIFAR-10 Batch 3:  Loss:     1.8463 Validation Accuracy: 0.319307\n",
      "Epoch  5, CIFAR-10 Batch 4:  Loss:     1.8555 Validation Accuracy: 0.335396\n",
      "Epoch  5, CIFAR-10 Batch 5:  Loss:     1.8348 Validation Accuracy: 0.323020\n",
      "Epoch  6, CIFAR-10 Batch 1:  Loss:     1.8739 Validation Accuracy: 0.313119\n",
      "Epoch  6, CIFAR-10 Batch 2:  Loss:     1.8434 Validation Accuracy: 0.319307\n",
      "Epoch  6, CIFAR-10 Batch 3:  Loss:     1.7974 Validation Accuracy: 0.342822\n",
      "Epoch  6, CIFAR-10 Batch 4:  Loss:     1.8084 Validation Accuracy: 0.356436\n",
      "Epoch  6, CIFAR-10 Batch 5:  Loss:     1.8118 Validation Accuracy: 0.355198\n",
      "Epoch  7, CIFAR-10 Batch 1:  Loss:     1.8356 Validation Accuracy: 0.339109\n",
      "Epoch  7, CIFAR-10 Batch 2:  Loss:     1.7990 Validation Accuracy: 0.326733\n",
      "Epoch  7, CIFAR-10 Batch 3:  Loss:     1.7393 Validation Accuracy: 0.352723\n",
      "Epoch  7, CIFAR-10 Batch 4:  Loss:     1.7760 Validation Accuracy: 0.362624\n",
      "Epoch  7, CIFAR-10 Batch 5:  Loss:     1.7730 Validation Accuracy: 0.358911\n",
      "Epoch  8, CIFAR-10 Batch 1:  Loss:     1.7816 Validation Accuracy: 0.357673\n",
      "Epoch  8, CIFAR-10 Batch 2:  Loss:     1.7695 Validation Accuracy: 0.349010\n",
      "Epoch  8, CIFAR-10 Batch 3:  Loss:     1.6982 Validation Accuracy: 0.361386\n",
      "Epoch  8, CIFAR-10 Batch 4:  Loss:     1.7435 Validation Accuracy: 0.383663\n",
      "Epoch  8, CIFAR-10 Batch 5:  Loss:     1.7408 Validation Accuracy: 0.391089\n",
      "Epoch  9, CIFAR-10 Batch 1:  Loss:     1.7525 Validation Accuracy: 0.368812\n",
      "Epoch  9, CIFAR-10 Batch 2:  Loss:     1.7433 Validation Accuracy: 0.372525\n",
      "Epoch  9, CIFAR-10 Batch 3:  Loss:     1.6729 Validation Accuracy: 0.382426\n",
      "Epoch  9, CIFAR-10 Batch 4:  Loss:     1.6913 Validation Accuracy: 0.396040\n",
      "Epoch  9, CIFAR-10 Batch 5:  Loss:     1.7191 Validation Accuracy: 0.399752\n",
      "Epoch 10, CIFAR-10 Batch 1:  Loss:     1.7083 Validation Accuracy: 0.391089\n",
      "Epoch 10, CIFAR-10 Batch 2:  Loss:     1.7135 Validation Accuracy: 0.388614\n",
      "Epoch 10, CIFAR-10 Batch 3:  Loss:     1.6443 Validation Accuracy: 0.398515\n",
      "Epoch 10, CIFAR-10 Batch 4:  Loss:     1.6596 Validation Accuracy: 0.408416\n",
      "Epoch 10, CIFAR-10 Batch 5:  Loss:     1.6846 Validation Accuracy: 0.428218\n",
      "Epoch 11, CIFAR-10 Batch 1:  Loss:     1.6877 Validation Accuracy: 0.407178\n",
      "Epoch 11, CIFAR-10 Batch 2:  Loss:     1.6786 Validation Accuracy: 0.412129\n",
      "Epoch 11, CIFAR-10 Batch 3:  Loss:     1.6064 Validation Accuracy: 0.409653\n",
      "Epoch 11, CIFAR-10 Batch 4:  Loss:     1.6478 Validation Accuracy: 0.422030\n",
      "Epoch 11, CIFAR-10 Batch 5:  Loss:     1.6504 Validation Accuracy: 0.423267\n",
      "Epoch 12, CIFAR-10 Batch 1:  Loss:     1.6595 Validation Accuracy: 0.413366\n",
      "Epoch 12, CIFAR-10 Batch 2:  Loss:     1.6451 Validation Accuracy: 0.426980\n",
      "Epoch 12, CIFAR-10 Batch 3:  Loss:     1.5781 Validation Accuracy: 0.405941\n",
      "Epoch 12, CIFAR-10 Batch 4:  Loss:     1.6019 Validation Accuracy: 0.426980\n",
      "Epoch 12, CIFAR-10 Batch 5:  Loss:     1.6261 Validation Accuracy: 0.446782\n",
      "Epoch 13, CIFAR-10 Batch 1:  Loss:     1.6443 Validation Accuracy: 0.408416\n",
      "Epoch 13, CIFAR-10 Batch 2:  Loss:     1.6130 Validation Accuracy: 0.430693\n",
      "Epoch 13, CIFAR-10 Batch 3:  Loss:     1.5731 Validation Accuracy: 0.412129\n",
      "Epoch 13, CIFAR-10 Batch 4:  Loss:     1.5932 Validation Accuracy: 0.438119\n",
      "Epoch 13, CIFAR-10 Batch 5:  Loss:     1.5997 Validation Accuracy: 0.443069\n",
      "Epoch 14, CIFAR-10 Batch 1:  Loss:     1.6011 Validation Accuracy: 0.441832\n",
      "Epoch 14, CIFAR-10 Batch 2:  Loss:     1.5947 Validation Accuracy: 0.436881\n",
      "Epoch 14, CIFAR-10 Batch 3:  Loss:     1.5399 Validation Accuracy: 0.431931\n",
      "Epoch 14, CIFAR-10 Batch 4:  Loss:     1.5724 Validation Accuracy: 0.446782\n",
      "Epoch 14, CIFAR-10 Batch 5:  Loss:     1.5812 Validation Accuracy: 0.455446\n",
      "Epoch 15, CIFAR-10 Batch 1:  Loss:     1.5932 Validation Accuracy: 0.439356\n",
      "Epoch 15, CIFAR-10 Batch 2:  Loss:     1.5766 Validation Accuracy: 0.438119\n",
      "Epoch 15, CIFAR-10 Batch 3:  Loss:     1.5111 Validation Accuracy: 0.448020\n",
      "Epoch 15, CIFAR-10 Batch 4:  Loss:     1.5350 Validation Accuracy: 0.443069\n",
      "Epoch 15, CIFAR-10 Batch 5:  Loss:     1.5573 Validation Accuracy: 0.461634\n",
      "Epoch 16, CIFAR-10 Batch 1:  Loss:     1.5414 Validation Accuracy: 0.452970\n",
      "Epoch 16, CIFAR-10 Batch 2:  Loss:     1.5271 Validation Accuracy: 0.465347\n",
      "Epoch 16, CIFAR-10 Batch 3:  Loss:     1.4925 Validation Accuracy: 0.444307\n",
      "Epoch 16, CIFAR-10 Batch 4:  Loss:     1.5254 Validation Accuracy: 0.454208\n",
      "Epoch 16, CIFAR-10 Batch 5:  Loss:     1.5186 Validation Accuracy: 0.471535\n",
      "Epoch 17, CIFAR-10 Batch 1:  Loss:     1.5375 Validation Accuracy: 0.438119\n",
      "Epoch 17, CIFAR-10 Batch 2:  Loss:     1.5304 Validation Accuracy: 0.451733\n",
      "Epoch 17, CIFAR-10 Batch 3:  Loss:     1.4654 Validation Accuracy: 0.446782\n",
      "Epoch 17, CIFAR-10 Batch 4:  Loss:     1.4873 Validation Accuracy: 0.465347\n",
      "Epoch 17, CIFAR-10 Batch 5:  Loss:     1.5261 Validation Accuracy: 0.474010\n",
      "Epoch 18, CIFAR-10 Batch 1:  Loss:     1.5105 Validation Accuracy: 0.448020\n",
      "Epoch 18, CIFAR-10 Batch 2:  Loss:     1.4954 Validation Accuracy: 0.470297\n",
      "Epoch 18, CIFAR-10 Batch 3:  Loss:     1.4431 Validation Accuracy: 0.476485\n",
      "Epoch 18, CIFAR-10 Batch 4:  Loss:     1.4750 Validation Accuracy: 0.470297\n",
      "Epoch 18, CIFAR-10 Batch 5:  Loss:     1.5017 Validation Accuracy: 0.475248\n",
      "Epoch 19, CIFAR-10 Batch 1:  Loss:     1.4915 Validation Accuracy: 0.461634\n",
      "Epoch 19, CIFAR-10 Batch 2:  Loss:     1.4517 Validation Accuracy: 0.478960\n",
      "Epoch 19, CIFAR-10 Batch 3:  Loss:     1.4410 Validation Accuracy: 0.486386\n",
      "Epoch 19, CIFAR-10 Batch 4:  Loss:     1.4346 Validation Accuracy: 0.493812\n",
      "Epoch 19, CIFAR-10 Batch 5:  Loss:     1.4803 Validation Accuracy: 0.490099\n",
      "Epoch 20, CIFAR-10 Batch 1:  Loss:     1.4801 Validation Accuracy: 0.469059\n",
      "Epoch 20, CIFAR-10 Batch 2:  Loss:     1.4501 Validation Accuracy: 0.480198\n",
      "Epoch 20, CIFAR-10 Batch 3:  Loss:     1.3943 Validation Accuracy: 0.492574\n",
      "Epoch 20, CIFAR-10 Batch 4:  Loss:     1.4231 Validation Accuracy: 0.497525\n",
      "Epoch 20, CIFAR-10 Batch 5:  Loss:     1.4441 Validation Accuracy: 0.495050\n",
      "Epoch 21, CIFAR-10 Batch 1:  Loss:     1.4524 Validation Accuracy: 0.472772\n",
      "Epoch 21, CIFAR-10 Batch 2:  Loss:     1.4453 Validation Accuracy: 0.491337\n",
      "Epoch 21, CIFAR-10 Batch 3:  Loss:     1.3667 Validation Accuracy: 0.507426\n",
      "Epoch 21, CIFAR-10 Batch 4:  Loss:     1.3940 Validation Accuracy: 0.500000\n",
      "Epoch 21, CIFAR-10 Batch 5:  Loss:     1.4343 Validation Accuracy: 0.487624\n",
      "Epoch 22, CIFAR-10 Batch 1:  Loss:     1.4307 Validation Accuracy: 0.472772\n",
      "Epoch 22, CIFAR-10 Batch 2:  Loss:     1.4122 Validation Accuracy: 0.487624\n"
     ]
    },
    {
     "name": "stdout",
     "output_type": "stream",
     "text": [
      "Epoch 22, CIFAR-10 Batch 3:  Loss:     1.3568 Validation Accuracy: 0.524752\n",
      "Epoch 22, CIFAR-10 Batch 4:  Loss:     1.3834 Validation Accuracy: 0.502475\n",
      "Epoch 22, CIFAR-10 Batch 5:  Loss:     1.4103 Validation Accuracy: 0.506188\n",
      "Epoch 23, CIFAR-10 Batch 1:  Loss:     1.4244 Validation Accuracy: 0.482673\n",
      "Epoch 23, CIFAR-10 Batch 2:  Loss:     1.4030 Validation Accuracy: 0.504951\n",
      "Epoch 23, CIFAR-10 Batch 3:  Loss:     1.3558 Validation Accuracy: 0.498762\n",
      "Epoch 23, CIFAR-10 Batch 4:  Loss:     1.3772 Validation Accuracy: 0.500000\n",
      "Epoch 23, CIFAR-10 Batch 5:  Loss:     1.4055 Validation Accuracy: 0.519802\n",
      "Epoch 24, CIFAR-10 Batch 1:  Loss:     1.3854 Validation Accuracy: 0.506188\n",
      "Epoch 24, CIFAR-10 Batch 2:  Loss:     1.3805 Validation Accuracy: 0.509901\n",
      "Epoch 24, CIFAR-10 Batch 3:  Loss:     1.3350 Validation Accuracy: 0.521040\n",
      "Epoch 24, CIFAR-10 Batch 4:  Loss:     1.3448 Validation Accuracy: 0.518564\n",
      "Epoch 24, CIFAR-10 Batch 5:  Loss:     1.3709 Validation Accuracy: 0.524752\n",
      "Epoch 25, CIFAR-10 Batch 1:  Loss:     1.3670 Validation Accuracy: 0.511139\n",
      "Epoch 25, CIFAR-10 Batch 2:  Loss:     1.3599 Validation Accuracy: 0.517327\n",
      "Epoch 25, CIFAR-10 Batch 3:  Loss:     1.3220 Validation Accuracy: 0.511139\n",
      "Epoch 25, CIFAR-10 Batch 4:  Loss:     1.3145 Validation Accuracy: 0.514852\n",
      "Epoch 25, CIFAR-10 Batch 5:  Loss:     1.3768 Validation Accuracy: 0.534653\n",
      "Epoch 26, CIFAR-10 Batch 1:  Loss:     1.3439 Validation Accuracy: 0.524752\n",
      "Epoch 26, CIFAR-10 Batch 2:  Loss:     1.3403 Validation Accuracy: 0.525990\n",
      "Epoch 26, CIFAR-10 Batch 3:  Loss:     1.3196 Validation Accuracy: 0.514852\n",
      "Epoch 26, CIFAR-10 Batch 4:  Loss:     1.3089 Validation Accuracy: 0.523515\n",
      "Epoch 26, CIFAR-10 Batch 5:  Loss:     1.3399 Validation Accuracy: 0.549505\n",
      "Epoch 27, CIFAR-10 Batch 1:  Loss:     1.3424 Validation Accuracy: 0.523515\n",
      "Epoch 27, CIFAR-10 Batch 2:  Loss:     1.3499 Validation Accuracy: 0.513614\n",
      "Epoch 27, CIFAR-10 Batch 3:  Loss:     1.2973 Validation Accuracy: 0.503713\n",
      "Epoch 27, CIFAR-10 Batch 4:  Loss:     1.2962 Validation Accuracy: 0.530941\n",
      "Epoch 27, CIFAR-10 Batch 5:  Loss:     1.3301 Validation Accuracy: 0.547030\n",
      "Epoch 28, CIFAR-10 Batch 1:  Loss:     1.3245 Validation Accuracy: 0.519802\n",
      "Epoch 28, CIFAR-10 Batch 2:  Loss:     1.3128 Validation Accuracy: 0.547030\n",
      "Epoch 28, CIFAR-10 Batch 3:  Loss:     1.2731 Validation Accuracy: 0.533416\n",
      "Epoch 28, CIFAR-10 Batch 4:  Loss:     1.2781 Validation Accuracy: 0.539604\n",
      "Epoch 28, CIFAR-10 Batch 5:  Loss:     1.3301 Validation Accuracy: 0.545792\n",
      "Epoch 29, CIFAR-10 Batch 1:  Loss:     1.2984 Validation Accuracy: 0.539604\n",
      "Epoch 29, CIFAR-10 Batch 2:  Loss:     1.2997 Validation Accuracy: 0.544554\n",
      "Epoch 29, CIFAR-10 Batch 3:  Loss:     1.2479 Validation Accuracy: 0.554455\n",
      "Epoch 29, CIFAR-10 Batch 4:  Loss:     1.2664 Validation Accuracy: 0.538366\n",
      "Epoch 29, CIFAR-10 Batch 5:  Loss:     1.2871 Validation Accuracy: 0.566832\n",
      "Epoch 30, CIFAR-10 Batch 1:  Loss:     1.2774 Validation Accuracy: 0.547030\n",
      "Epoch 30, CIFAR-10 Batch 2:  Loss:     1.2759 Validation Accuracy: 0.555693\n",
      "Epoch 30, CIFAR-10 Batch 3:  Loss:     1.2592 Validation Accuracy: 0.534653\n",
      "Epoch 30, CIFAR-10 Batch 4:  Loss:     1.2305 Validation Accuracy: 0.548267\n",
      "Epoch 30, CIFAR-10 Batch 5:  Loss:     1.2620 Validation Accuracy: 0.571782\n",
      "Epoch 31, CIFAR-10 Batch 1:  Loss:     1.2774 Validation Accuracy: 0.551980\n",
      "Epoch 31, CIFAR-10 Batch 2:  Loss:     1.2582 Validation Accuracy: 0.575495\n",
      "Epoch 31, CIFAR-10 Batch 3:  Loss:     1.2252 Validation Accuracy: 0.540842\n",
      "Epoch 31, CIFAR-10 Batch 4:  Loss:     1.2386 Validation Accuracy: 0.548267\n",
      "Epoch 31, CIFAR-10 Batch 5:  Loss:     1.2427 Validation Accuracy: 0.581683\n",
      "Epoch 32, CIFAR-10 Batch 1:  Loss:     1.2654 Validation Accuracy: 0.550743\n",
      "Epoch 32, CIFAR-10 Batch 2:  Loss:     1.2512 Validation Accuracy: 0.561881\n",
      "Epoch 32, CIFAR-10 Batch 3:  Loss:     1.2173 Validation Accuracy: 0.561881\n",
      "Epoch 32, CIFAR-10 Batch 4:  Loss:     1.2079 Validation Accuracy: 0.556931\n",
      "Epoch 32, CIFAR-10 Batch 5:  Loss:     1.2372 Validation Accuracy: 0.576733\n",
      "Epoch 33, CIFAR-10 Batch 1:  Loss:     1.2456 Validation Accuracy: 0.564356\n",
      "Epoch 33, CIFAR-10 Batch 2:  Loss:     1.2298 Validation Accuracy: 0.576733\n",
      "Epoch 33, CIFAR-10 Batch 3:  Loss:     1.1855 Validation Accuracy: 0.535891\n",
      "Epoch 33, CIFAR-10 Batch 4:  Loss:     1.2069 Validation Accuracy: 0.569307\n",
      "Epoch 33, CIFAR-10 Batch 5:  Loss:     1.2152 Validation Accuracy: 0.594059\n",
      "Epoch 34, CIFAR-10 Batch 1:  Loss:     1.2231 Validation Accuracy: 0.559406\n",
      "Epoch 34, CIFAR-10 Batch 2:  Loss:     1.2218 Validation Accuracy: 0.573020\n",
      "Epoch 34, CIFAR-10 Batch 3:  Loss:     1.1747 Validation Accuracy: 0.573020\n",
      "Epoch 34, CIFAR-10 Batch 4:  Loss:     1.1846 Validation Accuracy: 0.580446\n",
      "Epoch 34, CIFAR-10 Batch 5:  Loss:     1.1884 Validation Accuracy: 0.597772\n",
      "Epoch 35, CIFAR-10 Batch 1:  Loss:     1.2044 Validation Accuracy: 0.576733\n",
      "Epoch 35, CIFAR-10 Batch 2:  Loss:     1.2046 Validation Accuracy: 0.580446\n",
      "Epoch 35, CIFAR-10 Batch 3:  Loss:     1.1859 Validation Accuracy: 0.580446\n",
      "Epoch 35, CIFAR-10 Batch 4:  Loss:     1.1594 Validation Accuracy: 0.581683\n",
      "Epoch 35, CIFAR-10 Batch 5:  Loss:     1.1743 Validation Accuracy: 0.595297\n",
      "Epoch 36, CIFAR-10 Batch 1:  Loss:     1.1887 Validation Accuracy: 0.581683\n",
      "Epoch 36, CIFAR-10 Batch 2:  Loss:     1.2064 Validation Accuracy: 0.574257\n",
      "Epoch 36, CIFAR-10 Batch 3:  Loss:     1.1437 Validation Accuracy: 0.565594\n",
      "Epoch 36, CIFAR-10 Batch 4:  Loss:     1.1533 Validation Accuracy: 0.599010\n",
      "Epoch 36, CIFAR-10 Batch 5:  Loss:     1.1640 Validation Accuracy: 0.607673\n",
      "Epoch 37, CIFAR-10 Batch 1:  Loss:     1.1848 Validation Accuracy: 0.575495\n",
      "Epoch 37, CIFAR-10 Batch 2:  Loss:     1.1925 Validation Accuracy: 0.582921\n",
      "Epoch 37, CIFAR-10 Batch 3:  Loss:     1.1373 Validation Accuracy: 0.584158\n",
      "Epoch 37, CIFAR-10 Batch 4:  Loss:     1.1387 Validation Accuracy: 0.602723\n",
      "Epoch 37, CIFAR-10 Batch 5:  Loss:     1.1462 Validation Accuracy: 0.601485\n",
      "Epoch 38, CIFAR-10 Batch 1:  Loss:     1.1575 Validation Accuracy: 0.589109\n",
      "Epoch 38, CIFAR-10 Batch 2:  Loss:     1.1654 Validation Accuracy: 0.602723\n",
      "Epoch 38, CIFAR-10 Batch 3:  Loss:     1.1226 Validation Accuracy: 0.595297\n",
      "Epoch 38, CIFAR-10 Batch 4:  Loss:     1.1312 Validation Accuracy: 0.581683\n",
      "Epoch 38, CIFAR-10 Batch 5:  Loss:     1.1358 Validation Accuracy: 0.618812\n",
      "Epoch 39, CIFAR-10 Batch 1:  Loss:     1.1292 Validation Accuracy: 0.590347\n",
      "Epoch 39, CIFAR-10 Batch 2:  Loss:     1.1474 Validation Accuracy: 0.601485\n",
      "Epoch 39, CIFAR-10 Batch 3:  Loss:     1.1063 Validation Accuracy: 0.600248\n",
      "Epoch 39, CIFAR-10 Batch 4:  Loss:     1.1305 Validation Accuracy: 0.591584\n",
      "Epoch 39, CIFAR-10 Batch 5:  Loss:     1.1108 Validation Accuracy: 0.626238\n",
      "Epoch 40, CIFAR-10 Batch 1:  Loss:     1.1243 Validation Accuracy: 0.591584\n",
      "Epoch 40, CIFAR-10 Batch 2:  Loss:     1.1357 Validation Accuracy: 0.606436\n",
      "Epoch 40, CIFAR-10 Batch 3:  Loss:     1.0932 Validation Accuracy: 0.596535\n",
      "Epoch 40, CIFAR-10 Batch 4:  Loss:     1.1130 Validation Accuracy: 0.595297\n",
      "Epoch 40, CIFAR-10 Batch 5:  Loss:     1.0925 Validation Accuracy: 0.636139\n",
      "Epoch 41, CIFAR-10 Batch 1:  Loss:     1.1033 Validation Accuracy: 0.610148\n",
      "Epoch 41, CIFAR-10 Batch 2:  Loss:     1.1209 Validation Accuracy: 0.620049\n",
      "Epoch 41, CIFAR-10 Batch 3:  Loss:     1.0627 Validation Accuracy: 0.618812\n",
      "Epoch 41, CIFAR-10 Batch 4:  Loss:     1.1101 Validation Accuracy: 0.585396\n",
      "Epoch 41, CIFAR-10 Batch 5:  Loss:     1.0884 Validation Accuracy: 0.627475\n",
      "Epoch 42, CIFAR-10 Batch 1:  Loss:     1.1138 Validation Accuracy: 0.584158\n",
      "Epoch 42, CIFAR-10 Batch 2:  Loss:     1.1147 Validation Accuracy: 0.610148\n",
      "Epoch 42, CIFAR-10 Batch 3:  Loss:     1.0532 Validation Accuracy: 0.608911\n",
      "Epoch 42, CIFAR-10 Batch 4:  Loss:     1.0979 Validation Accuracy: 0.602723\n",
      "Epoch 42, CIFAR-10 Batch 5:  Loss:     1.0819 Validation Accuracy: 0.626238\n",
      "Epoch 43, CIFAR-10 Batch 1:  Loss:     1.0844 Validation Accuracy: 0.603960\n",
      "Epoch 43, CIFAR-10 Batch 2:  Loss:     1.1018 Validation Accuracy: 0.629951\n",
      "Epoch 43, CIFAR-10 Batch 3:  Loss:     1.0212 Validation Accuracy: 0.631188\n",
      "Epoch 43, CIFAR-10 Batch 4:  Loss:     1.0569 Validation Accuracy: 0.620049\n"
     ]
    },
    {
     "name": "stdout",
     "output_type": "stream",
     "text": [
      "Epoch 43, CIFAR-10 Batch 5:  Loss:     1.0556 Validation Accuracy: 0.634901\n",
      "Epoch 44, CIFAR-10 Batch 1:  Loss:     1.0573 Validation Accuracy: 0.626238\n",
      "Epoch 44, CIFAR-10 Batch 2:  Loss:     1.0781 Validation Accuracy: 0.643564\n",
      "Epoch 44, CIFAR-10 Batch 3:  Loss:     1.0032 Validation Accuracy: 0.634901\n",
      "Epoch 44, CIFAR-10 Batch 4:  Loss:     1.0425 Validation Accuracy: 0.620049\n",
      "Epoch 44, CIFAR-10 Batch 5:  Loss:     1.0356 Validation Accuracy: 0.647277\n",
      "Epoch 45, CIFAR-10 Batch 1:  Loss:     1.0637 Validation Accuracy: 0.620049\n",
      "Epoch 45, CIFAR-10 Batch 2:  Loss:     1.0457 Validation Accuracy: 0.634901\n",
      "Epoch 45, CIFAR-10 Batch 3:  Loss:     0.9848 Validation Accuracy: 0.633663\n",
      "Epoch 45, CIFAR-10 Batch 4:  Loss:     1.0359 Validation Accuracy: 0.631188\n",
      "Epoch 45, CIFAR-10 Batch 5:  Loss:     1.0212 Validation Accuracy: 0.648515\n",
      "Epoch 46, CIFAR-10 Batch 1:  Loss:     1.0237 Validation Accuracy: 0.644802\n",
      "Epoch 46, CIFAR-10 Batch 2:  Loss:     1.0474 Validation Accuracy: 0.620049\n",
      "Epoch 46, CIFAR-10 Batch 3:  Loss:     0.9850 Validation Accuracy: 0.626238\n",
      "Epoch 46, CIFAR-10 Batch 4:  Loss:     1.0389 Validation Accuracy: 0.626238\n",
      "Epoch 46, CIFAR-10 Batch 5:  Loss:     0.9951 Validation Accuracy: 0.667079\n",
      "Epoch 47, CIFAR-10 Batch 1:  Loss:     1.0126 Validation Accuracy: 0.644802\n",
      "Epoch 47, CIFAR-10 Batch 2:  Loss:     1.0228 Validation Accuracy: 0.642327\n",
      "Epoch 47, CIFAR-10 Batch 3:  Loss:     0.9691 Validation Accuracy: 0.646040\n",
      "Epoch 47, CIFAR-10 Batch 4:  Loss:     1.0314 Validation Accuracy: 0.647277\n",
      "Epoch 47, CIFAR-10 Batch 5:  Loss:     0.9882 Validation Accuracy: 0.657178\n",
      "Epoch 48, CIFAR-10 Batch 1:  Loss:     1.0127 Validation Accuracy: 0.638614\n",
      "Epoch 48, CIFAR-10 Batch 2:  Loss:     1.0304 Validation Accuracy: 0.626238\n",
      "Epoch 48, CIFAR-10 Batch 3:  Loss:     0.9451 Validation Accuracy: 0.649752\n",
      "Epoch 48, CIFAR-10 Batch 4:  Loss:     1.0114 Validation Accuracy: 0.632426\n",
      "Epoch 48, CIFAR-10 Batch 5:  Loss:     0.9637 Validation Accuracy: 0.675743\n",
      "Epoch 49, CIFAR-10 Batch 1:  Loss:     0.9950 Validation Accuracy: 0.637376\n",
      "Epoch 49, CIFAR-10 Batch 2:  Loss:     1.0049 Validation Accuracy: 0.658416\n",
      "Epoch 49, CIFAR-10 Batch 3:  Loss:     0.9315 Validation Accuracy: 0.658416\n",
      "Epoch 49, CIFAR-10 Batch 4:  Loss:     0.9928 Validation Accuracy: 0.641089\n",
      "Epoch 49, CIFAR-10 Batch 5:  Loss:     0.9425 Validation Accuracy: 0.673267\n",
      "Epoch 50, CIFAR-10 Batch 1:  Loss:     0.9942 Validation Accuracy: 0.639852\n",
      "Epoch 50, CIFAR-10 Batch 2:  Loss:     0.9839 Validation Accuracy: 0.650990\n",
      "Epoch 50, CIFAR-10 Batch 3:  Loss:     0.9221 Validation Accuracy: 0.669554\n",
      "Epoch 50, CIFAR-10 Batch 4:  Loss:     0.9821 Validation Accuracy: 0.662129\n",
      "Epoch 50, CIFAR-10 Batch 5:  Loss:     0.9283 Validation Accuracy: 0.669554\n"
     ]
    }
   ],
   "source": [
    "\"\"\"\n",
    "DON'T MODIFY ANYTHING IN THIS CELL\n",
    "\"\"\"\n",
    "save_model_path = './image_classification'\n",
    "\n",
    "print('Training...')\n",
    "with tf.Session() as sess:\n",
    "    # Initializing the variables\n",
    "    sess.run(tf.global_variables_initializer())\n",
    "    \n",
    "    # Training cycle\n",
    "    for epoch in range(epochs):\n",
    "        # Loop over all batches\n",
    "        n_batches = 5\n",
    "        for batch_i in range(1, n_batches + 1):\n",
    "            for batch_features, batch_labels in helper.load_preprocess_training_batch(batch_i, batch_size):\n",
    "                train_neural_network(sess, optimizer, keep_probability, batch_features, batch_labels)\n",
    "            print('Epoch {:>2}, CIFAR-10 Batch {}:  '.format(epoch + 1, batch_i), end='')\n",
    "            print_stats(sess, batch_features, batch_labels, cost, accuracy)\n",
    "            \n",
    "    # Save Model\n",
    "    saver = tf.train.Saver()\n",
    "    save_path = saver.save(sess, save_model_path)"
   ]
  },
  {
   "cell_type": "markdown",
   "metadata": {},
   "source": [
    "# Checkpoint\n",
    "The model has been saved to disk.\n",
    "## Test Model\n",
    "Test your model against the test dataset.  This will be your final accuracy. You should have an accuracy greater than 50%. If you don't, keep tweaking the model architecture and parameters."
   ]
  },
  {
   "cell_type": "code",
   "execution_count": 277,
   "metadata": {},
   "outputs": [
    {
     "name": "stdout",
     "output_type": "stream",
     "text": [
      "INFO:tensorflow:Restoring parameters from ./image_classification\n",
      "Testing Accuracy: 0.4918905466794968\n",
      "\n"
     ]
    },
    {
     "data": {
      "image/png": "[encoded data removed]",
      "text/plain": [
       "<matplotlib.figure.Figure at 0xc1cdcf8>"
      ]
     },
     "metadata": {
      "image/png": {
       "height": 319,
       "width": 355
      }
     },
     "output_type": "display_data"
    }
   ],
   "source": [
    "\"\"\"\n",
    "DON'T MODIFY ANYTHING IN THIS CELL\n",
    "\"\"\"\n",
    "%matplotlib inline\n",
    "%config InlineBackend.figure_format = 'retina'\n",
    "\n",
    "import tensorflow as tf\n",
    "import pickle\n",
    "import helper\n",
    "import random\n",
    "\n",
    "# Set batch size if not already set\n",
    "try:\n",
    "    if batch_size:\n",
    "        pass\n",
    "except NameError:\n",
    "    batch_size = 64\n",
    "\n",
    "save_model_path = './image_classification'\n",
    "n_samples = 4\n",
    "top_n_predictions = 3\n",
    "\n",
    "def test_model():\n",
    "    \"\"\"\n",
    "    Test the saved model against the test dataset\n",
    "    \"\"\"\n",
    "\n",
    "    test_features, test_labels = pickle.load(open('preprocess_test.p', mode='rb'))\n",
    "    loaded_graph = tf.Graph()\n",
    "\n",
    "    with tf.Session(graph=loaded_graph) as sess:\n",
    "        # Load model\n",
    "        loader = tf.train.import_meta_graph(save_model_path + '.meta')\n",
    "        loader.restore(sess, save_model_path)\n",
    "\n",
    "        # Get Tensors from loaded model\n",
    "        loaded_x = loaded_graph.get_tensor_by_name('x:0')\n",
    "        loaded_y = loaded_graph.get_tensor_by_name('y:0')\n",
    "        loaded_keep_prob = loaded_graph.get_tensor_by_name('keep_prob:0')\n",
    "        loaded_logits = loaded_graph.get_tensor_by_name('logits:0')\n",
    "        loaded_acc = loaded_graph.get_tensor_by_name('accuracy:0')\n",
    "        \n",
    "        # Get accuracy in batches for memory limitations\n",
    "        test_batch_acc_total = 0\n",
    "        test_batch_count = 0\n",
    "        \n",
    "        for test_feature_batch, test_label_batch in helper.batch_features_labels(test_features, test_labels, batch_size):\n",
    "            test_batch_acc_total += sess.run(\n",
    "                loaded_acc,\n",
    "                feed_dict={loaded_x: test_feature_batch, loaded_y: test_label_batch, loaded_keep_prob: 1.0})\n",
    "            test_batch_count += 1\n",
    "\n",
    "        print('Testing Accuracy: {}\\n'.format(test_batch_acc_total/test_batch_count))\n",
    "\n",
    "        # Print Random Samples\n",
    "        random_test_features, random_test_labels = tuple(zip(*random.sample(list(zip(test_features, test_labels)), n_samples)))\n",
    "        random_test_predictions = sess.run(\n",
    "            tf.nn.top_k(tf.nn.softmax(loaded_logits), top_n_predictions),\n",
    "            feed_dict={loaded_x: random_test_features, loaded_y: random_test_labels, loaded_keep_prob: 1.0})\n",
    "        helper.display_image_predictions(random_test_features, random_test_labels, random_test_predictions)\n",
    "\n",
    "\n",
    "test_model()"
   ]
  },
  {
   "cell_type": "markdown",
   "metadata": {},
   "source": [
    "## Why 50-80% Accuracy?\n",
    "You might be wondering why you can't get an accuracy any higher. First things first, 50% isn't bad for a simple CNN.  Pure guessing would get you 10% accuracy. However, you might notice people are getting scores [well above 80%](http://rodrigob.github.io/are_we_there_yet/build/classification_datasets_results.html#43494641522d3130).  That's because we haven't taught you all there is to know about neural networks. We still need to cover a few more techniques.\n",
    "## Submitting This Project\n",
    "When submitting this project, make sure to run all the cells before saving the notebook.  Save the notebook file as \"dlnd_image_classification.ipynb\" and save it as a HTML file under \"File\" -> \"Download as\".  Include the \"helper.py\" and \"problem_unittests.py\" files in your submission."
   ]
  }
 ],
 "metadata": {
  "kernelspec": {
   "display_name": "Python 3",
   "language": "python",
   "name": "python3"
  },
  "language_info": {
   "codemirror_mode": {
    "name": "ipython",
    "version": 3
   },
   "file_extension": ".py",
   "mimetype": "text/x-python",
   "name": "python",
   "nbconvert_exporter": "python",
   "pygments_lexer": "ipython3",
   "version": "3.6.1"
  }
 },
 "nbformat": 4,
 "nbformat_minor": 1
}
